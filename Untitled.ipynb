{
 "cells": [
  {
   "cell_type": "code",
   "execution_count": 184,
   "metadata": {},
   "outputs": [],
   "source": [
    "import numpy as np\n",
    "import pandas as pd\n",
    "import seaborn as sns\n",
    "import matplotlib.pyplot as plt\n",
    "%matplotlib inline"
   ]
  },
  {
   "cell_type": "code",
   "execution_count": 185,
   "metadata": {},
   "outputs": [],
   "source": [
    "df = pd.read_excel(\"Email Performance Analytics _Data.xlsx\")"
   ]
  },
  {
   "cell_type": "code",
   "execution_count": 186,
   "metadata": {},
   "outputs": [
    {
     "data": {
      "text/html": [
       "<div>\n",
       "<style scoped>\n",
       "    .dataframe tbody tr th:only-of-type {\n",
       "        vertical-align: middle;\n",
       "    }\n",
       "\n",
       "    .dataframe tbody tr th {\n",
       "        vertical-align: top;\n",
       "    }\n",
       "\n",
       "    .dataframe thead th {\n",
       "        text-align: right;\n",
       "    }\n",
       "</style>\n",
       "<table border=\"1\" class=\"dataframe\">\n",
       "  <thead>\n",
       "    <tr style=\"text-align: right;\">\n",
       "      <th></th>\n",
       "      <th>Midascontactid</th>\n",
       "      <th>Createdat</th>\n",
       "      <th>Emailpermissionstatus</th>\n",
       "      <th>Cont.Acq.Src</th>\n",
       "      <th>Email.Src.First</th>\n",
       "      <th>Segment</th>\n",
       "      <th>Segmentsecondary</th>\n",
       "      <th>Email.Acq.Dt</th>\n",
       "      <th>Email.Pref.Ch.Dt</th>\n",
       "      <th>Entry.Point.List</th>\n",
       "      <th>...</th>\n",
       "      <th>Eml.Click.First.Ts</th>\n",
       "      <th>Eml.Click.Last.Ts</th>\n",
       "      <th>Eml.Bounce.Last.Ts</th>\n",
       "      <th>Eml.Unsub.Last.Ts</th>\n",
       "      <th>Eml.Spam.Last.Ts</th>\n",
       "      <th>Email.Domain</th>\n",
       "      <th>Em.Pref.Status</th>\n",
       "      <th>Em.Pref.Dte</th>\n",
       "      <th>Invalid.Email.Dte</th>\n",
       "      <th>Em.Spamclplt.Dte</th>\n",
       "    </tr>\n",
       "  </thead>\n",
       "  <tbody>\n",
       "    <tr>\n",
       "      <th>0</th>\n",
       "      <td>1020375449</td>\n",
       "      <td>2019-04-23</td>\n",
       "      <td>I</td>\n",
       "      <td>LIDUAS16</td>\n",
       "      <td>OOBWIN15</td>\n",
       "      <td>CON</td>\n",
       "      <td>NaN</td>\n",
       "      <td>2019-04-22</td>\n",
       "      <td>2019-08-24</td>\n",
       "      <td>|LIDUAS1608|OOBAND1407|OOBWIN1506|</td>\n",
       "      <td>...</td>\n",
       "      <td>2019-08-21</td>\n",
       "      <td>2019-08-21</td>\n",
       "      <td>NaT</td>\n",
       "      <td>NaT</td>\n",
       "      <td>NaT</td>\n",
       "      <td>gmail.com</td>\n",
       "      <td>I</td>\n",
       "      <td>2019-08-24</td>\n",
       "      <td>NaT</td>\n",
       "      <td>NaN</td>\n",
       "    </tr>\n",
       "    <tr>\n",
       "      <th>1</th>\n",
       "      <td>1042778096</td>\n",
       "      <td>2019-10-16</td>\n",
       "      <td>U</td>\n",
       "      <td>OOBWIN15</td>\n",
       "      <td>NaN</td>\n",
       "      <td>CON</td>\n",
       "      <td>NaN</td>\n",
       "      <td>NaT</td>\n",
       "      <td>2019-10-15</td>\n",
       "      <td>|OOBWIN1506|</td>\n",
       "      <td>...</td>\n",
       "      <td>NaT</td>\n",
       "      <td>NaT</td>\n",
       "      <td>NaT</td>\n",
       "      <td>NaT</td>\n",
       "      <td>NaT</td>\n",
       "      <td>hotmail.com</td>\n",
       "      <td>U</td>\n",
       "      <td>2019-10-15</td>\n",
       "      <td>NaT</td>\n",
       "      <td>NaN</td>\n",
       "    </tr>\n",
       "    <tr>\n",
       "      <th>2</th>\n",
       "      <td>1039527195</td>\n",
       "      <td>2019-07-29</td>\n",
       "      <td>I</td>\n",
       "      <td>NETMINNG</td>\n",
       "      <td>NETMINNG</td>\n",
       "      <td>CON</td>\n",
       "      <td>NaN</td>\n",
       "      <td>2019-07-29</td>\n",
       "      <td>2019-07-30</td>\n",
       "      <td>|HYBRIS1506|IGNONE20121024|SAPCRMSHIP120501|</td>\n",
       "      <td>...</td>\n",
       "      <td>NaT</td>\n",
       "      <td>NaT</td>\n",
       "      <td>NaT</td>\n",
       "      <td>NaT</td>\n",
       "      <td>NaT</td>\n",
       "      <td>hotmail.com</td>\n",
       "      <td>I</td>\n",
       "      <td>2019-07-30</td>\n",
       "      <td>NaT</td>\n",
       "      <td>NaN</td>\n",
       "    </tr>\n",
       "    <tr>\n",
       "      <th>3</th>\n",
       "      <td>1008356168</td>\n",
       "      <td>2019-11-29</td>\n",
       "      <td>I</td>\n",
       "      <td>EPI2</td>\n",
       "      <td>EPI2</td>\n",
       "      <td>CON</td>\n",
       "      <td>NaN</td>\n",
       "      <td>2015-11-04</td>\n",
       "      <td>2019-11-29</td>\n",
       "      <td>|HYBRIS1506|LENI2|OOBWIN1407|OOBWIN1506|RI6 PE...</td>\n",
       "      <td>...</td>\n",
       "      <td>2016-07-28</td>\n",
       "      <td>2016-08-06</td>\n",
       "      <td>NaT</td>\n",
       "      <td>2016-11-03</td>\n",
       "      <td>NaT</td>\n",
       "      <td>gmail.com</td>\n",
       "      <td>I</td>\n",
       "      <td>2019-11-29</td>\n",
       "      <td>NaT</td>\n",
       "      <td>NaN</td>\n",
       "    </tr>\n",
       "    <tr>\n",
       "      <th>4</th>\n",
       "      <td>1038164470</td>\n",
       "      <td>2019-04-30</td>\n",
       "      <td>U</td>\n",
       "      <td>OOBWIN15</td>\n",
       "      <td>NaN</td>\n",
       "      <td>CON</td>\n",
       "      <td>NaN</td>\n",
       "      <td>NaT</td>\n",
       "      <td>2019-04-29</td>\n",
       "      <td>|OOBWIN1506|</td>\n",
       "      <td>...</td>\n",
       "      <td>2019-05-26</td>\n",
       "      <td>2019-05-26</td>\n",
       "      <td>NaT</td>\n",
       "      <td>NaT</td>\n",
       "      <td>NaT</td>\n",
       "      <td>hotmail.com</td>\n",
       "      <td>U</td>\n",
       "      <td>2019-04-29</td>\n",
       "      <td>NaT</td>\n",
       "      <td>NaN</td>\n",
       "    </tr>\n",
       "  </tbody>\n",
       "</table>\n",
       "<p>5 rows × 51 columns</p>\n",
       "</div>"
      ],
      "text/plain": [
       "   Midascontactid  Createdat Emailpermissionstatus Cont.Acq.Src  \\\n",
       "0      1020375449 2019-04-23                     I     LIDUAS16   \n",
       "1      1042778096 2019-10-16                     U     OOBWIN15   \n",
       "2      1039527195 2019-07-29                     I     NETMINNG   \n",
       "3      1008356168 2019-11-29                     I         EPI2   \n",
       "4      1038164470 2019-04-30                     U     OOBWIN15   \n",
       "\n",
       "  Email.Src.First Segment Segmentsecondary Email.Acq.Dt Email.Pref.Ch.Dt  \\\n",
       "0        OOBWIN15     CON              NaN   2019-04-22       2019-08-24   \n",
       "1             NaN     CON              NaN          NaT       2019-10-15   \n",
       "2        NETMINNG     CON              NaN   2019-07-29       2019-07-30   \n",
       "3            EPI2     CON              NaN   2015-11-04       2019-11-29   \n",
       "4             NaN     CON              NaN          NaT       2019-04-29   \n",
       "\n",
       "                                    Entry.Point.List  ... Eml.Click.First.Ts  \\\n",
       "0                 |LIDUAS1608|OOBAND1407|OOBWIN1506|  ...         2019-08-21   \n",
       "1                                       |OOBWIN1506|  ...                NaT   \n",
       "2       |HYBRIS1506|IGNONE20121024|SAPCRMSHIP120501|  ...                NaT   \n",
       "3  |HYBRIS1506|LENI2|OOBWIN1407|OOBWIN1506|RI6 PE...  ...         2016-07-28   \n",
       "4                                       |OOBWIN1506|  ...         2019-05-26   \n",
       "\n",
       "  Eml.Click.Last.Ts Eml.Bounce.Last.Ts Eml.Unsub.Last.Ts Eml.Spam.Last.Ts  \\\n",
       "0        2019-08-21                NaT               NaT              NaT   \n",
       "1               NaT                NaT               NaT              NaT   \n",
       "2               NaT                NaT               NaT              NaT   \n",
       "3        2016-08-06                NaT        2016-11-03              NaT   \n",
       "4        2019-05-26                NaT               NaT              NaT   \n",
       "\n",
       "  Email.Domain Em.Pref.Status Em.Pref.Dte Invalid.Email.Dte Em.Spamclplt.Dte  \n",
       "0    gmail.com              I  2019-08-24               NaT              NaN  \n",
       "1  hotmail.com              U  2019-10-15               NaT              NaN  \n",
       "2  hotmail.com              I  2019-07-30               NaT              NaN  \n",
       "3    gmail.com              I  2019-11-29               NaT              NaN  \n",
       "4  hotmail.com              U  2019-04-29               NaT              NaN  \n",
       "\n",
       "[5 rows x 51 columns]"
      ]
     },
     "execution_count": 186,
     "metadata": {},
     "output_type": "execute_result"
    }
   ],
   "source": [
    "df.head()"
   ]
  },
  {
   "cell_type": "code",
   "execution_count": 187,
   "metadata": {},
   "outputs": [
    {
     "name": "stdout",
     "output_type": "stream",
     "text": [
      "<class 'pandas.core.frame.DataFrame'>\n",
      "RangeIndex: 10000 entries, 0 to 9999\n",
      "Data columns (total 51 columns):\n",
      " #   Column                       Non-Null Count  Dtype         \n",
      "---  ------                       --------------  -----         \n",
      " 0   Midascontactid               10000 non-null  int64         \n",
      " 1   Createdat                    10000 non-null  datetime64[ns]\n",
      " 2   Emailpermissionstatus        10000 non-null  object        \n",
      " 3   Cont.Acq.Src                 9943 non-null   object        \n",
      " 4   Email.Src.First              6274 non-null   object        \n",
      " 5   Segment                      10000 non-null  object        \n",
      " 6   Segmentsecondary             87 non-null     object        \n",
      " 7   Email.Acq.Dt                 6274 non-null   datetime64[ns]\n",
      " 8   Email.Pref.Ch.Dt             9943 non-null   datetime64[ns]\n",
      " 9   Entry.Point.List             9943 non-null   object        \n",
      " 10  Cont.Acq.Src2                9943 non-null   object        \n",
      " 11  Cont.Acq.Dte                 9943 non-null   datetime64[ns]\n",
      " 12  Prod.Buy.Last                8480 non-null   datetime64[ns]\n",
      " 13  Prod.Buy.First               8480 non-null   datetime64[ns]\n",
      " 14  Prod.Buy.Accessories         38 non-null     datetime64[ns]\n",
      " 15  Prod.Buy.All.In.One.Desktop  260 non-null    datetime64[ns]\n",
      " 16  Prod.Buy.Desktop             410 non-null    datetime64[ns]\n",
      " 17  Prod.Buy.Idc                 523 non-null    datetime64[ns]\n",
      " 18  Prod.Buy.Idpd                4599 non-null   datetime64[ns]\n",
      " 19  Prod.Buy.Laptop              86 non-null     datetime64[ns]\n",
      " 20  Prod.Buy.Servers             1 non-null      datetime64[ns]\n",
      " 21  Prod.Buy.Software            0 non-null      float64       \n",
      " 22  Prod.Buy.Thnkc               86 non-null     datetime64[ns]\n",
      " 23  Prod.Buy.Thnkp               864 non-null    datetime64[ns]\n",
      " 24  Prod.Buy.Warranties          251 non-null    datetime64[ns]\n",
      " 25  Prod.Buy.Workstation         1 non-null      datetime64[ns]\n",
      " 26  Prod.Buy.Android.Tablet      2 non-null      datetime64[ns]\n",
      " 27  Prod.Buy.Windows.Tablet      2 non-null      datetime64[ns]\n",
      " 28  Prod.Buy.Convertible         6 non-null      datetime64[ns]\n",
      " 29  Prod.Buy.Android.Os          2 non-null      datetime64[ns]\n",
      " 30  Prod.Buy.Gaming              370 non-null    datetime64[ns]\n",
      " 31  Prod.Buy.Windows.Os          27 non-null     datetime64[ns]\n",
      " 32  Prod.Buy.Gaming.Related      203 non-null    datetime64[ns]\n",
      " 33  Country                      10000 non-null  object        \n",
      " 34  Eml.Sent.Num                 9859 non-null   float64       \n",
      " 35  Eml.Sent.First.Ts            7879 non-null   datetime64[ns]\n",
      " 36  Eml.Sent.Last.Ts             7879 non-null   datetime64[ns]\n",
      " 37  Eml.Open.Num                 9859 non-null   float64       \n",
      " 38  Eml.Open.First.Ts            3783 non-null   datetime64[ns]\n",
      " 39  Eml.Open.Last.Ts             3783 non-null   datetime64[ns]\n",
      " 40  Eml.Click.Num                9859 non-null   float64       \n",
      " 41  Eml.Click.First.Ts           1455 non-null   datetime64[ns]\n",
      " 42  Eml.Click.Last.Ts            1455 non-null   datetime64[ns]\n",
      " 43  Eml.Bounce.Last.Ts           12 non-null     datetime64[ns]\n",
      " 44  Eml.Unsub.Last.Ts            101 non-null    datetime64[ns]\n",
      " 45  Eml.Spam.Last.Ts             24 non-null     datetime64[ns]\n",
      " 46  Email.Domain                 10000 non-null  object        \n",
      " 47  Em.Pref.Status               10000 non-null  object        \n",
      " 48  Em.Pref.Dte                  10000 non-null  datetime64[ns]\n",
      " 49  Invalid.Email.Dte            53 non-null     datetime64[ns]\n",
      " 50  Em.Spamclplt.Dte             0 non-null      float64       \n",
      "dtypes: datetime64[ns](35), float64(5), int64(1), object(10)\n",
      "memory usage: 3.9+ MB\n"
     ]
    }
   ],
   "source": [
    "df.info()"
   ]
  },
  {
   "cell_type": "code",
   "execution_count": 188,
   "metadata": {},
   "outputs": [
    {
     "data": {
      "text/plain": [
       "Midascontactid                     0\n",
       "Createdat                          0\n",
       "Emailpermissionstatus              0\n",
       "Cont.Acq.Src                      57\n",
       "Email.Src.First                 3726\n",
       "Segment                            0\n",
       "Segmentsecondary                9913\n",
       "Email.Acq.Dt                    3726\n",
       "Email.Pref.Ch.Dt                  57\n",
       "Entry.Point.List                  57\n",
       "Cont.Acq.Src2                     57\n",
       "Cont.Acq.Dte                      57\n",
       "Prod.Buy.Last                   1520\n",
       "Prod.Buy.First                  1520\n",
       "Prod.Buy.Accessories            9962\n",
       "Prod.Buy.All.In.One.Desktop     9740\n",
       "Prod.Buy.Desktop                9590\n",
       "Prod.Buy.Idc                    9477\n",
       "Prod.Buy.Idpd                   5401\n",
       "Prod.Buy.Laptop                 9914\n",
       "Prod.Buy.Servers                9999\n",
       "Prod.Buy.Software              10000\n",
       "Prod.Buy.Thnkc                  9914\n",
       "Prod.Buy.Thnkp                  9136\n",
       "Prod.Buy.Warranties             9749\n",
       "Prod.Buy.Workstation            9999\n",
       "Prod.Buy.Android.Tablet         9998\n",
       "Prod.Buy.Windows.Tablet         9998\n",
       "Prod.Buy.Convertible            9994\n",
       "Prod.Buy.Android.Os             9998\n",
       "Prod.Buy.Gaming                 9630\n",
       "Prod.Buy.Windows.Os             9973\n",
       "Prod.Buy.Gaming.Related         9797\n",
       "Country                            0\n",
       "Eml.Sent.Num                     141\n",
       "Eml.Sent.First.Ts               2121\n",
       "Eml.Sent.Last.Ts                2121\n",
       "Eml.Open.Num                     141\n",
       "Eml.Open.First.Ts               6217\n",
       "Eml.Open.Last.Ts                6217\n",
       "Eml.Click.Num                    141\n",
       "Eml.Click.First.Ts              8545\n",
       "Eml.Click.Last.Ts               8545\n",
       "Eml.Bounce.Last.Ts              9988\n",
       "Eml.Unsub.Last.Ts               9899\n",
       "Eml.Spam.Last.Ts                9976\n",
       "Email.Domain                       0\n",
       "Em.Pref.Status                     0\n",
       "Em.Pref.Dte                        0\n",
       "Invalid.Email.Dte               9947\n",
       "Em.Spamclplt.Dte               10000\n",
       "dtype: int64"
      ]
     },
     "execution_count": 188,
     "metadata": {},
     "output_type": "execute_result"
    }
   ],
   "source": [
    "df.isnull().sum()"
   ]
  },
  {
   "cell_type": "code",
   "execution_count": 189,
   "metadata": {},
   "outputs": [
    {
     "data": {
      "text/plain": [
       "Index(['Midascontactid', 'Createdat', 'Emailpermissionstatus', 'Cont.Acq.Src',\n",
       "       'Email.Src.First', 'Segment', 'Segmentsecondary', 'Email.Acq.Dt',\n",
       "       'Email.Pref.Ch.Dt', 'Entry.Point.List', 'Cont.Acq.Src2', 'Cont.Acq.Dte',\n",
       "       'Prod.Buy.Last', 'Prod.Buy.First', 'Prod.Buy.Accessories',\n",
       "       'Prod.Buy.All.In.One.Desktop', 'Prod.Buy.Desktop', 'Prod.Buy.Idc',\n",
       "       'Prod.Buy.Idpd', 'Prod.Buy.Laptop', 'Prod.Buy.Servers',\n",
       "       'Prod.Buy.Software', 'Prod.Buy.Thnkc', 'Prod.Buy.Thnkp',\n",
       "       'Prod.Buy.Warranties', 'Prod.Buy.Workstation',\n",
       "       'Prod.Buy.Android.Tablet', 'Prod.Buy.Windows.Tablet',\n",
       "       'Prod.Buy.Convertible', 'Prod.Buy.Android.Os', 'Prod.Buy.Gaming',\n",
       "       'Prod.Buy.Windows.Os', 'Prod.Buy.Gaming.Related', 'Country',\n",
       "       'Eml.Sent.Num', 'Eml.Sent.First.Ts', 'Eml.Sent.Last.Ts', 'Eml.Open.Num',\n",
       "       'Eml.Open.First.Ts', 'Eml.Open.Last.Ts', 'Eml.Click.Num',\n",
       "       'Eml.Click.First.Ts', 'Eml.Click.Last.Ts', 'Eml.Bounce.Last.Ts',\n",
       "       'Eml.Unsub.Last.Ts', 'Eml.Spam.Last.Ts', 'Email.Domain',\n",
       "       'Em.Pref.Status', 'Em.Pref.Dte', 'Invalid.Email.Dte',\n",
       "       'Em.Spamclplt.Dte'],\n",
       "      dtype='object')"
      ]
     },
     "execution_count": 189,
     "metadata": {},
     "output_type": "execute_result"
    }
   ],
   "source": [
    "df.columns"
   ]
  },
  {
   "cell_type": "code",
   "execution_count": 190,
   "metadata": {},
   "outputs": [
    {
     "data": {
      "text/html": [
       "<div>\n",
       "<style scoped>\n",
       "    .dataframe tbody tr th:only-of-type {\n",
       "        vertical-align: middle;\n",
       "    }\n",
       "\n",
       "    .dataframe tbody tr th {\n",
       "        vertical-align: top;\n",
       "    }\n",
       "\n",
       "    .dataframe thead th {\n",
       "        text-align: right;\n",
       "    }\n",
       "</style>\n",
       "<table border=\"1\" class=\"dataframe\">\n",
       "  <thead>\n",
       "    <tr style=\"text-align: right;\">\n",
       "      <th></th>\n",
       "      <th>Midascontactid</th>\n",
       "      <th>Createdat</th>\n",
       "      <th>Emailpermissionstatus</th>\n",
       "      <th>Cont.Acq.Src</th>\n",
       "      <th>Email.Src.First</th>\n",
       "      <th>Segment</th>\n",
       "      <th>Segmentsecondary</th>\n",
       "      <th>Email.Acq.Dt</th>\n",
       "      <th>Email.Pref.Ch.Dt</th>\n",
       "      <th>Entry.Point.List</th>\n",
       "      <th>...</th>\n",
       "      <th>Eml.Click.First.Ts</th>\n",
       "      <th>Eml.Click.Last.Ts</th>\n",
       "      <th>Eml.Bounce.Last.Ts</th>\n",
       "      <th>Eml.Unsub.Last.Ts</th>\n",
       "      <th>Eml.Spam.Last.Ts</th>\n",
       "      <th>Email.Domain</th>\n",
       "      <th>Em.Pref.Status</th>\n",
       "      <th>Em.Pref.Dte</th>\n",
       "      <th>Invalid.Email.Dte</th>\n",
       "      <th>Em.Spamclplt.Dte</th>\n",
       "    </tr>\n",
       "  </thead>\n",
       "  <tbody>\n",
       "    <tr>\n",
       "      <th>0</th>\n",
       "      <td>1020375449</td>\n",
       "      <td>2019-04-23</td>\n",
       "      <td>I</td>\n",
       "      <td>LIDUAS16</td>\n",
       "      <td>OOBWIN15</td>\n",
       "      <td>CON</td>\n",
       "      <td>NaN</td>\n",
       "      <td>2019-04-22</td>\n",
       "      <td>2019-08-24</td>\n",
       "      <td>|LIDUAS1608|OOBAND1407|OOBWIN1506|</td>\n",
       "      <td>...</td>\n",
       "      <td>2019-08-21</td>\n",
       "      <td>2019-08-21</td>\n",
       "      <td>NaT</td>\n",
       "      <td>NaT</td>\n",
       "      <td>NaT</td>\n",
       "      <td>gmail.com</td>\n",
       "      <td>I</td>\n",
       "      <td>2019-08-24</td>\n",
       "      <td>NaT</td>\n",
       "      <td>NaN</td>\n",
       "    </tr>\n",
       "    <tr>\n",
       "      <th>2</th>\n",
       "      <td>1039527195</td>\n",
       "      <td>2019-07-29</td>\n",
       "      <td>I</td>\n",
       "      <td>NETMINNG</td>\n",
       "      <td>NETMINNG</td>\n",
       "      <td>CON</td>\n",
       "      <td>NaN</td>\n",
       "      <td>2019-07-29</td>\n",
       "      <td>2019-07-30</td>\n",
       "      <td>|HYBRIS1506|IGNONE20121024|SAPCRMSHIP120501|</td>\n",
       "      <td>...</td>\n",
       "      <td>NaT</td>\n",
       "      <td>NaT</td>\n",
       "      <td>NaT</td>\n",
       "      <td>NaT</td>\n",
       "      <td>NaT</td>\n",
       "      <td>hotmail.com</td>\n",
       "      <td>I</td>\n",
       "      <td>2019-07-30</td>\n",
       "      <td>NaT</td>\n",
       "      <td>NaN</td>\n",
       "    </tr>\n",
       "    <tr>\n",
       "      <th>3</th>\n",
       "      <td>1008356168</td>\n",
       "      <td>2019-11-29</td>\n",
       "      <td>I</td>\n",
       "      <td>EPI2</td>\n",
       "      <td>EPI2</td>\n",
       "      <td>CON</td>\n",
       "      <td>NaN</td>\n",
       "      <td>2015-11-04</td>\n",
       "      <td>2019-11-29</td>\n",
       "      <td>|HYBRIS1506|LENI2|OOBWIN1407|OOBWIN1506|RI6 PE...</td>\n",
       "      <td>...</td>\n",
       "      <td>2016-07-28</td>\n",
       "      <td>2016-08-06</td>\n",
       "      <td>NaT</td>\n",
       "      <td>2016-11-03</td>\n",
       "      <td>NaT</td>\n",
       "      <td>gmail.com</td>\n",
       "      <td>I</td>\n",
       "      <td>2019-11-29</td>\n",
       "      <td>NaT</td>\n",
       "      <td>NaN</td>\n",
       "    </tr>\n",
       "    <tr>\n",
       "      <th>6</th>\n",
       "      <td>1044033221</td>\n",
       "      <td>2019-12-05</td>\n",
       "      <td>I</td>\n",
       "      <td>CROWDS19</td>\n",
       "      <td>CROWDS19</td>\n",
       "      <td>CON</td>\n",
       "      <td>NaN</td>\n",
       "      <td>2019-12-04</td>\n",
       "      <td>2020-01-06</td>\n",
       "      <td>|CROWDS1902|HYBORD1502|HYBRIS1506|SAPCRMSHIP12...</td>\n",
       "      <td>...</td>\n",
       "      <td>NaT</td>\n",
       "      <td>NaT</td>\n",
       "      <td>NaT</td>\n",
       "      <td>NaT</td>\n",
       "      <td>NaT</td>\n",
       "      <td>danmarkcom.com</td>\n",
       "      <td>I</td>\n",
       "      <td>2019-12-04</td>\n",
       "      <td>NaT</td>\n",
       "      <td>NaN</td>\n",
       "    </tr>\n",
       "    <tr>\n",
       "      <th>8</th>\n",
       "      <td>1042888581</td>\n",
       "      <td>2019-10-20</td>\n",
       "      <td>I</td>\n",
       "      <td>OOBWIN15</td>\n",
       "      <td>OOBWIN15</td>\n",
       "      <td>CON</td>\n",
       "      <td>NaN</td>\n",
       "      <td>2019-10-20</td>\n",
       "      <td>2019-10-20</td>\n",
       "      <td>|OOBWIN1506|</td>\n",
       "      <td>...</td>\n",
       "      <td>NaT</td>\n",
       "      <td>NaT</td>\n",
       "      <td>NaT</td>\n",
       "      <td>NaT</td>\n",
       "      <td>NaT</td>\n",
       "      <td>gmail.com</td>\n",
       "      <td>I</td>\n",
       "      <td>2019-10-20</td>\n",
       "      <td>NaT</td>\n",
       "      <td>NaN</td>\n",
       "    </tr>\n",
       "  </tbody>\n",
       "</table>\n",
       "<p>5 rows × 51 columns</p>\n",
       "</div>"
      ],
      "text/plain": [
       "   Midascontactid  Createdat Emailpermissionstatus Cont.Acq.Src  \\\n",
       "0      1020375449 2019-04-23                     I     LIDUAS16   \n",
       "2      1039527195 2019-07-29                     I     NETMINNG   \n",
       "3      1008356168 2019-11-29                     I         EPI2   \n",
       "6      1044033221 2019-12-05                     I     CROWDS19   \n",
       "8      1042888581 2019-10-20                     I     OOBWIN15   \n",
       "\n",
       "  Email.Src.First Segment Segmentsecondary Email.Acq.Dt Email.Pref.Ch.Dt  \\\n",
       "0        OOBWIN15     CON              NaN   2019-04-22       2019-08-24   \n",
       "2        NETMINNG     CON              NaN   2019-07-29       2019-07-30   \n",
       "3            EPI2     CON              NaN   2015-11-04       2019-11-29   \n",
       "6        CROWDS19     CON              NaN   2019-12-04       2020-01-06   \n",
       "8        OOBWIN15     CON              NaN   2019-10-20       2019-10-20   \n",
       "\n",
       "                                    Entry.Point.List  ... Eml.Click.First.Ts  \\\n",
       "0                 |LIDUAS1608|OOBAND1407|OOBWIN1506|  ...         2019-08-21   \n",
       "2       |HYBRIS1506|IGNONE20121024|SAPCRMSHIP120501|  ...                NaT   \n",
       "3  |HYBRIS1506|LENI2|OOBWIN1407|OOBWIN1506|RI6 PE...  ...         2016-07-28   \n",
       "6  |CROWDS1902|HYBORD1502|HYBRIS1506|SAPCRMSHIP12...  ...                NaT   \n",
       "8                                       |OOBWIN1506|  ...                NaT   \n",
       "\n",
       "  Eml.Click.Last.Ts Eml.Bounce.Last.Ts Eml.Unsub.Last.Ts Eml.Spam.Last.Ts  \\\n",
       "0        2019-08-21                NaT               NaT              NaT   \n",
       "2               NaT                NaT               NaT              NaT   \n",
       "3        2016-08-06                NaT        2016-11-03              NaT   \n",
       "6               NaT                NaT               NaT              NaT   \n",
       "8               NaT                NaT               NaT              NaT   \n",
       "\n",
       "     Email.Domain Em.Pref.Status Em.Pref.Dte Invalid.Email.Dte  \\\n",
       "0       gmail.com              I  2019-08-24               NaT   \n",
       "2     hotmail.com              I  2019-07-30               NaT   \n",
       "3       gmail.com              I  2019-11-29               NaT   \n",
       "6  danmarkcom.com              I  2019-12-04               NaT   \n",
       "8       gmail.com              I  2019-10-20               NaT   \n",
       "\n",
       "  Em.Spamclplt.Dte  \n",
       "0              NaN  \n",
       "2              NaN  \n",
       "3              NaN  \n",
       "6              NaN  \n",
       "8              NaN  \n",
       "\n",
       "[5 rows x 51 columns]"
      ]
     },
     "execution_count": 190,
     "metadata": {},
     "output_type": "execute_result"
    }
   ],
   "source": [
    "opt_in.head()"
   ]
  },
  {
   "cell_type": "code",
   "execution_count": 191,
   "metadata": {},
   "outputs": [],
   "source": [
    "excl_df=df.drop(['Prod.Buy.Accessories',\n",
    "       'Prod.Buy.All.In.One.Desktop', 'Prod.Buy.Desktop', 'Prod.Buy.Idc',\n",
    "       'Prod.Buy.Laptop', 'Prod.Buy.Servers',\n",
    "       'Prod.Buy.Software', 'Prod.Buy.Thnkc', 'Prod.Buy.Thnkp',\n",
    "       'Prod.Buy.Warranties', 'Prod.Buy.Workstation',\n",
    "       'Prod.Buy.Android.Tablet', 'Prod.Buy.Windows.Tablet',\n",
    "       'Prod.Buy.Convertible', 'Prod.Buy.Android.Os', 'Prod.Buy.Gaming',\n",
    "       'Prod.Buy.Windows.Os', 'Prod.Buy.Gaming.Related','Eml.Bounce.Last.Ts',\n",
    "       'Eml.Unsub.Last.Ts', 'Eml.Spam.Last.Ts','Invalid.Email.Dte',\n",
    "       'Em.Spamclplt.Dte','Segmentsecondary','Eml.Click.First.Ts', 'Eml.Click.Last.Ts',],axis=1)"
   ]
  },
  {
   "cell_type": "code",
   "execution_count": 270,
   "metadata": {},
   "outputs": [],
   "source": [
    "#excl_df.drop('Email.Pref.Ch.Dt',axis=1,inplace=True)\n",
    "\n",
    "#excl_df.drop('Cont.Acq.Dte',axis=1,inplace=True)\n",
    "\n",
    "#excl_df.drop('Prod.Buy.Last',axis=1,inplace=True)\n",
    "\n",
    "#excl_df.drop('Prod.Buy.First',axis=1,inplace=True)\n",
    "\n",
    "#excl_df.drop('Eml.Sent.First.Ts',axis=1,inplace=True)\n",
    "\n",
    "#excl_df.drop('Eml.Sent.Last.Ts',axis=1,inplace=True)\n",
    "\n",
    "#excl_df.drop('Email.Acq.Dt',axis=1,inplace=True)\n",
    "\n",
    "#excl_df.drop('Prod.Buy.Idpd',axis=1,inplace=True)\n",
    "\n",
    "#excl_df.drop('Eml.Open.First.Ts',axis=1,inplace=True)\n",
    "\n",
    "excl_df.drop('Eml.Open.Last.Ts',axis=1,inplace=True)"
   ]
  },
  {
   "cell_type": "code",
   "execution_count": 273,
   "metadata": {},
   "outputs": [
    {
     "data": {
      "text/plain": [
       "Midascontactid             0\n",
       "Createdat                  0\n",
       "Emailpermissionstatus      0\n",
       "Cont.Acq.Src               0\n",
       "Email.Src.First            0\n",
       "Segment                    0\n",
       "Entry.Point.List           0\n",
       "Cont.Acq.Src2              0\n",
       "Country                    0\n",
       "Eml.Sent.Num               0\n",
       "Eml.Open.Num               0\n",
       "Eml.Click.Num              0\n",
       "Email.Domain               0\n",
       "Em.Pref.Status             0\n",
       "Em.Pref.Dte                0\n",
       "Email.Pref.Ch.Dt_Year      0\n",
       "Email.Pref.Ch.Dt_month     0\n",
       "Cont.Acq.Dte_year          0\n",
       "Cont.Acq.Dte_month         0\n",
       "Prod.Buy.Last_year         0\n",
       "Prod.Buy.Last_month        0\n",
       "Prod.Buy.First_year        0\n",
       "Prod.Buy.First_month       0\n",
       "Eml.Sent.First.Ts_year     0\n",
       "Eml.Sent.First.Ts_month    0\n",
       "Eml.Sent.Last.Ts_year      0\n",
       "Eml.Sent.Last.Ts_month     0\n",
       "Email.Acq.Dt_year          0\n",
       "Email.Acq.Dt_month         0\n",
       "Prod.Buy.Idpd_year         0\n",
       "Prod.Buy.Idpd_month        0\n",
       "Eml.Open.First.Ts_year     0\n",
       "Eml.Open.First.Ts_month    0\n",
       "Eml.Open.Last.Ts_year      0\n",
       "Eml.Open.Last.Ts_month     0\n",
       "dtype: int64"
      ]
     },
     "execution_count": 273,
     "metadata": {},
     "output_type": "execute_result"
    }
   ],
   "source": [
    "excl_df.isnull().sum()"
   ]
  },
  {
   "cell_type": "code",
   "execution_count": 194,
   "metadata": {},
   "outputs": [],
   "source": [
    "excl_df['Cont.Acq.Src'] = excl_df['Cont.Acq.Src'].replace(np.nan,'OOBWIN15')"
   ]
  },
  {
   "cell_type": "code",
   "execution_count": 195,
   "metadata": {},
   "outputs": [],
   "source": [
    "import datetime"
   ]
  },
  {
   "cell_type": "code",
   "execution_count": 196,
   "metadata": {},
   "outputs": [],
   "source": [
    "excl_df['Email.Pref.Ch.Dt_Year'] = pd.DatetimeIndex(df['Email.Pref.Ch.Dt']).year.fillna(2019)\n",
    "excl_df['Email.Pref.Ch.Dt_month'] = pd.DatetimeIndex(df['Email.Pref.Ch.Dt']).month.fillna(12)"
   ]
  },
  {
   "cell_type": "code",
   "execution_count": 197,
   "metadata": {},
   "outputs": [],
   "source": [
    "excl_df['Entry.Point.List'].value_counts()\n",
    "excl_df['Entry.Point.List'] = excl_df['Entry.Point.List'].replace(np.nan,'|OOBWIN1506|')"
   ]
  },
  {
   "cell_type": "code",
   "execution_count": 198,
   "metadata": {},
   "outputs": [],
   "source": [
    "excl_df['Cont.Acq.Src2'].value_counts()\n",
    "excl_df['Cont.Acq.Src2'] = excl_df['Cont.Acq.Src2'].replace(np.nan,'OOBWIN15')"
   ]
  },
  {
   "cell_type": "code",
   "execution_count": 199,
   "metadata": {},
   "outputs": [],
   "source": [
    "excl_df['Cont.Acq.Dte'].value_counts()\n",
    "excl_df['Cont.Acq.Dte_year'] = pd.DatetimeIndex(df['Cont.Acq.Dte']).year.fillna(2019)\n",
    "excl_df['Cont.Acq.Dte_month'] = pd.DatetimeIndex(df['Cont.Acq.Dte']).month.fillna(12)"
   ]
  },
  {
   "cell_type": "code",
   "execution_count": 200,
   "metadata": {},
   "outputs": [
    {
     "data": {
      "text/plain": [
       "3.0      265\n",
       "4.0      513\n",
       "5.0      544\n",
       "6.0      614\n",
       "7.0      714\n",
       "10.0     735\n",
       "2.0      736\n",
       "1.0      844\n",
       "11.0     952\n",
       "8.0     1191\n",
       "9.0     1276\n",
       "12.0    1616\n",
       "Name: Cont.Acq.Dte_month, dtype: int64"
      ]
     },
     "execution_count": 200,
     "metadata": {},
     "output_type": "execute_result"
    }
   ],
   "source": [
    "excl_df['Cont.Acq.Dte_month'].value_counts().sort_values()"
   ]
  },
  {
   "cell_type": "code",
   "execution_count": 201,
   "metadata": {},
   "outputs": [
    {
     "data": {
      "text/plain": [
       "0.0    8404\n",
       "1.0     761\n",
       "2.0     300\n",
       "3.0     134\n",
       "4.0      71\n",
       "Name: Eml.Click.Num, dtype: int64"
      ]
     },
     "execution_count": 201,
     "metadata": {},
     "output_type": "execute_result"
    }
   ],
   "source": [
    "excl_df['Eml.Click.Num'].value_counts().head()"
   ]
  },
  {
   "cell_type": "code",
   "execution_count": 202,
   "metadata": {},
   "outputs": [
    {
     "data": {
      "text/plain": [
       "0    1.0\n",
       "1    0.0\n",
       "2    0.0\n",
       "3    2.0\n",
       "4    1.0\n",
       "Name: Eml.Click.Num, dtype: float64"
      ]
     },
     "execution_count": 202,
     "metadata": {},
     "output_type": "execute_result"
    }
   ],
   "source": [
    "excl_df['Eml.Click.Num'].head()"
   ]
  },
  {
   "cell_type": "code",
   "execution_count": 203,
   "metadata": {},
   "outputs": [],
   "source": [
    "excl_df['Eml.Click.Num']=excl_df['Eml.Click.Num'].fillna(0.0)"
   ]
  },
  {
   "cell_type": "code",
   "execution_count": 204,
   "metadata": {},
   "outputs": [
    {
     "data": {
      "text/plain": [
       "0.0    6076\n",
       "1.0    1157\n",
       "2.0     604\n",
       "3.0     354\n",
       "4.0     269\n",
       "Name: Eml.Open.Num, dtype: int64"
      ]
     },
     "execution_count": 204,
     "metadata": {},
     "output_type": "execute_result"
    }
   ],
   "source": [
    "excl_df['Eml.Open.Num'].value_counts().head()"
   ]
  },
  {
   "cell_type": "code",
   "execution_count": 205,
   "metadata": {},
   "outputs": [],
   "source": [
    "excl_df['Eml.Open.Num']=excl_df['Eml.Open.Num'].fillna(0.0)"
   ]
  },
  {
   "cell_type": "code",
   "execution_count": 206,
   "metadata": {},
   "outputs": [
    {
     "data": {
      "text/plain": [
       "0.0    1980\n",
       "2.0    1312\n",
       "3.0     928\n",
       "1.0     919\n",
       "4.0     703\n",
       "Name: Eml.Sent.Num, dtype: int64"
      ]
     },
     "execution_count": 206,
     "metadata": {},
     "output_type": "execute_result"
    }
   ],
   "source": [
    "excl_df['Eml.Sent.Num'].value_counts().head()"
   ]
  },
  {
   "cell_type": "code",
   "execution_count": 207,
   "metadata": {},
   "outputs": [],
   "source": [
    "excl_df['Eml.Sent.Num']=excl_df['Eml.Sent.Num'].fillna(0.0)"
   ]
  },
  {
   "cell_type": "code",
   "execution_count": 208,
   "metadata": {},
   "outputs": [
    {
     "data": {
      "text/plain": [
       "0   2019-08-24\n",
       "1   2019-10-15\n",
       "2   2019-07-30\n",
       "3   2019-11-29\n",
       "4   2019-04-29\n",
       "Name: Prod.Buy.Last, dtype: datetime64[ns]"
      ]
     },
     "execution_count": 208,
     "metadata": {},
     "output_type": "execute_result"
    }
   ],
   "source": [
    "excl_df['Prod.Buy.Last'].head()"
   ]
  },
  {
   "cell_type": "code",
   "execution_count": 209,
   "metadata": {},
   "outputs": [],
   "source": [
    "excl_df['Prod.Buy.Last_year'] = pd.DatetimeIndex(df['Prod.Buy.Last']).year.fillna(2019)\n",
    "excl_df['Prod.Buy.Last_month'] = pd.DatetimeIndex(df['Prod.Buy.Last']).month.fillna(12)"
   ]
  },
  {
   "cell_type": "code",
   "execution_count": 210,
   "metadata": {},
   "outputs": [
    {
     "data": {
      "text/plain": [
       "3.0      231\n",
       "4.0      438\n",
       "5.0      439\n",
       "6.0      514\n",
       "7.0      599\n",
       "10.0     660\n",
       "2.0      702\n",
       "11.0     744\n",
       "1.0      818\n",
       "8.0      837\n",
       "9.0      989\n",
       "12.0    3029\n",
       "Name: Prod.Buy.Last_month, dtype: int64"
      ]
     },
     "execution_count": 210,
     "metadata": {},
     "output_type": "execute_result"
    }
   ],
   "source": [
    "excl_df['Prod.Buy.Last_month'].value_counts().sort_values()"
   ]
  },
  {
   "cell_type": "code",
   "execution_count": 216,
   "metadata": {},
   "outputs": [],
   "source": [
    "excl_df['Prod.Buy.First_year'] = pd.DatetimeIndex(df['Prod.Buy.First']).year.fillna(2019)\n",
    "excl_df['Prod.Buy.First_month'] = pd.DatetimeIndex(df['Prod.Buy.First']).month.fillna(12)"
   ]
  },
  {
   "cell_type": "code",
   "execution_count": 215,
   "metadata": {},
   "outputs": [
    {
     "data": {
      "text/plain": [
       "3.0      239\n",
       "4.0      452\n",
       "5.0      457\n",
       "6.0      523\n",
       "7.0      619\n",
       "10.0     647\n",
       "2.0      688\n",
       "1.0      791\n",
       "11.0     832\n",
       "8.0      840\n",
       "9.0      968\n",
       "12.0    1424\n",
       "Name: Prod.Buy.First_month, dtype: int64"
      ]
     },
     "execution_count": 215,
     "metadata": {},
     "output_type": "execute_result"
    }
   ],
   "source": [
    "excl_df['Prod.Buy.First_month'].value_counts().sort_values()"
   ]
  },
  {
   "cell_type": "code",
   "execution_count": 219,
   "metadata": {},
   "outputs": [
    {
     "data": {
      "text/plain": [
       "0   2017-03-03\n",
       "1   2019-11-25\n",
       "2   2019-07-29\n",
       "3   2019-11-29\n",
       "4   2019-04-30\n",
       "Name: Eml.Sent.First.Ts, dtype: datetime64[ns]"
      ]
     },
     "execution_count": 219,
     "metadata": {},
     "output_type": "execute_result"
    }
   ],
   "source": [
    "excl_df['Eml.Sent.First.Ts'].head()"
   ]
  },
  {
   "cell_type": "code",
   "execution_count": 224,
   "metadata": {},
   "outputs": [],
   "source": [
    "excl_df['Eml.Sent.First.Ts_year'] = pd.DatetimeIndex(df['Eml.Sent.First.Ts']).year.fillna(2019)\n",
    "excl_df['Eml.Sent.First.Ts_month'] = pd.DatetimeIndex(df['Eml.Sent.First.Ts']).month.fillna(11)"
   ]
  },
  {
   "cell_type": "code",
   "execution_count": 222,
   "metadata": {},
   "outputs": [
    {
     "data": {
      "text/plain": [
       "3.0       47\n",
       "4.0      334\n",
       "6.0      423\n",
       "2.0      438\n",
       "5.0      439\n",
       "8.0      468\n",
       "7.0      528\n",
       "9.0      579\n",
       "1.0      661\n",
       "10.0     683\n",
       "12.0    1452\n",
       "11.0    1827\n",
       "Name: Eml.Sent.First.Ts_month, dtype: int64"
      ]
     },
     "execution_count": 222,
     "metadata": {},
     "output_type": "execute_result"
    }
   ],
   "source": [
    "excl_df['Eml.Sent.First.Ts_month'].value_counts().sort_values()"
   ]
  },
  {
   "cell_type": "code",
   "execution_count": 230,
   "metadata": {},
   "outputs": [],
   "source": [
    "\n",
    "excl_df['Eml.Sent.Last.Ts_year'] = pd.DatetimeIndex(df['Eml.Sent.Last.Ts']).year.fillna(2020)\n",
    "excl_df['Eml.Sent.Last.Ts_month'] = pd.DatetimeIndex(df['Eml.Sent.Last.Ts']).month.fillna(12)"
   ]
  },
  {
   "cell_type": "code",
   "execution_count": 229,
   "metadata": {},
   "outputs": [
    {
     "data": {
      "text/plain": [
       "4.0       24\n",
       "8.0       39\n",
       "6.0       42\n",
       "10.0      51\n",
       "3.0       56\n",
       "7.0       61\n",
       "9.0       67\n",
       "5.0       77\n",
       "11.0     291\n",
       "1.0     1863\n",
       "2.0     2465\n",
       "12.0    2843\n",
       "Name: Eml.Sent.Last.Ts_month, dtype: int64"
      ]
     },
     "execution_count": 229,
     "metadata": {},
     "output_type": "execute_result"
    }
   ],
   "source": [
    "excl_df['Eml.Sent.Last.Ts_month'].value_counts().sort_values()"
   ]
  },
  {
   "cell_type": "code",
   "execution_count": 236,
   "metadata": {},
   "outputs": [],
   "source": [
    "excl_df['Email.Src.First'].value_counts().head()\n",
    "excl_df['Email.Src.First'] = excl_df['Cont.Acq.Src2'].replace(np.nan,'OOBWIN15')"
   ]
  },
  {
   "cell_type": "code",
   "execution_count": 248,
   "metadata": {},
   "outputs": [
    {
     "ename": "KeyError",
     "evalue": "'Email.Acq.Dt'",
     "output_type": "error",
     "traceback": [
      "\u001b[1;31m---------------------------------------------------------------------------\u001b[0m",
      "\u001b[1;31mKeyError\u001b[0m                                  Traceback (most recent call last)",
      "\u001b[1;32mD:\\Anaconda\\lib\\site-packages\\pandas\\core\\indexes\\base.py\u001b[0m in \u001b[0;36mget_loc\u001b[1;34m(self, key, method, tolerance)\u001b[0m\n\u001b[0;32m   2645\u001b[0m             \u001b[1;32mtry\u001b[0m\u001b[1;33m:\u001b[0m\u001b[1;33m\u001b[0m\u001b[1;33m\u001b[0m\u001b[0m\n\u001b[1;32m-> 2646\u001b[1;33m                 \u001b[1;32mreturn\u001b[0m \u001b[0mself\u001b[0m\u001b[1;33m.\u001b[0m\u001b[0m_engine\u001b[0m\u001b[1;33m.\u001b[0m\u001b[0mget_loc\u001b[0m\u001b[1;33m(\u001b[0m\u001b[0mkey\u001b[0m\u001b[1;33m)\u001b[0m\u001b[1;33m\u001b[0m\u001b[1;33m\u001b[0m\u001b[0m\n\u001b[0m\u001b[0;32m   2647\u001b[0m             \u001b[1;32mexcept\u001b[0m \u001b[0mKeyError\u001b[0m\u001b[1;33m:\u001b[0m\u001b[1;33m\u001b[0m\u001b[1;33m\u001b[0m\u001b[0m\n",
      "\u001b[1;32mpandas\\_libs\\index.pyx\u001b[0m in \u001b[0;36mpandas._libs.index.IndexEngine.get_loc\u001b[1;34m()\u001b[0m\n",
      "\u001b[1;32mpandas\\_libs\\index.pyx\u001b[0m in \u001b[0;36mpandas._libs.index.IndexEngine.get_loc\u001b[1;34m()\u001b[0m\n",
      "\u001b[1;32mpandas\\_libs\\hashtable_class_helper.pxi\u001b[0m in \u001b[0;36mpandas._libs.hashtable.PyObjectHashTable.get_item\u001b[1;34m()\u001b[0m\n",
      "\u001b[1;32mpandas\\_libs\\hashtable_class_helper.pxi\u001b[0m in \u001b[0;36mpandas._libs.hashtable.PyObjectHashTable.get_item\u001b[1;34m()\u001b[0m\n",
      "\u001b[1;31mKeyError\u001b[0m: 'Email.Acq.Dt'",
      "\nDuring handling of the above exception, another exception occurred:\n",
      "\u001b[1;31mKeyError\u001b[0m                                  Traceback (most recent call last)",
      "\u001b[1;32m<ipython-input-248-dc1dfc0a54ae>\u001b[0m in \u001b[0;36m<module>\u001b[1;34m\u001b[0m\n\u001b[1;32m----> 1\u001b[1;33m \u001b[0mexcl_df\u001b[0m\u001b[1;33m[\u001b[0m\u001b[1;34m'Email.Acq.Dt'\u001b[0m\u001b[1;33m]\u001b[0m\u001b[1;33m.\u001b[0m\u001b[0mhead\u001b[0m\u001b[1;33m(\u001b[0m\u001b[1;33m)\u001b[0m\u001b[1;33m\u001b[0m\u001b[1;33m\u001b[0m\u001b[0m\n\u001b[0m",
      "\u001b[1;32mD:\\Anaconda\\lib\\site-packages\\pandas\\core\\frame.py\u001b[0m in \u001b[0;36m__getitem__\u001b[1;34m(self, key)\u001b[0m\n\u001b[0;32m   2798\u001b[0m             \u001b[1;32mif\u001b[0m \u001b[0mself\u001b[0m\u001b[1;33m.\u001b[0m\u001b[0mcolumns\u001b[0m\u001b[1;33m.\u001b[0m\u001b[0mnlevels\u001b[0m \u001b[1;33m>\u001b[0m \u001b[1;36m1\u001b[0m\u001b[1;33m:\u001b[0m\u001b[1;33m\u001b[0m\u001b[1;33m\u001b[0m\u001b[0m\n\u001b[0;32m   2799\u001b[0m                 \u001b[1;32mreturn\u001b[0m \u001b[0mself\u001b[0m\u001b[1;33m.\u001b[0m\u001b[0m_getitem_multilevel\u001b[0m\u001b[1;33m(\u001b[0m\u001b[0mkey\u001b[0m\u001b[1;33m)\u001b[0m\u001b[1;33m\u001b[0m\u001b[1;33m\u001b[0m\u001b[0m\n\u001b[1;32m-> 2800\u001b[1;33m             \u001b[0mindexer\u001b[0m \u001b[1;33m=\u001b[0m \u001b[0mself\u001b[0m\u001b[1;33m.\u001b[0m\u001b[0mcolumns\u001b[0m\u001b[1;33m.\u001b[0m\u001b[0mget_loc\u001b[0m\u001b[1;33m(\u001b[0m\u001b[0mkey\u001b[0m\u001b[1;33m)\u001b[0m\u001b[1;33m\u001b[0m\u001b[1;33m\u001b[0m\u001b[0m\n\u001b[0m\u001b[0;32m   2801\u001b[0m             \u001b[1;32mif\u001b[0m \u001b[0mis_integer\u001b[0m\u001b[1;33m(\u001b[0m\u001b[0mindexer\u001b[0m\u001b[1;33m)\u001b[0m\u001b[1;33m:\u001b[0m\u001b[1;33m\u001b[0m\u001b[1;33m\u001b[0m\u001b[0m\n\u001b[0;32m   2802\u001b[0m                 \u001b[0mindexer\u001b[0m \u001b[1;33m=\u001b[0m \u001b[1;33m[\u001b[0m\u001b[0mindexer\u001b[0m\u001b[1;33m]\u001b[0m\u001b[1;33m\u001b[0m\u001b[1;33m\u001b[0m\u001b[0m\n",
      "\u001b[1;32mD:\\Anaconda\\lib\\site-packages\\pandas\\core\\indexes\\base.py\u001b[0m in \u001b[0;36mget_loc\u001b[1;34m(self, key, method, tolerance)\u001b[0m\n\u001b[0;32m   2646\u001b[0m                 \u001b[1;32mreturn\u001b[0m \u001b[0mself\u001b[0m\u001b[1;33m.\u001b[0m\u001b[0m_engine\u001b[0m\u001b[1;33m.\u001b[0m\u001b[0mget_loc\u001b[0m\u001b[1;33m(\u001b[0m\u001b[0mkey\u001b[0m\u001b[1;33m)\u001b[0m\u001b[1;33m\u001b[0m\u001b[1;33m\u001b[0m\u001b[0m\n\u001b[0;32m   2647\u001b[0m             \u001b[1;32mexcept\u001b[0m \u001b[0mKeyError\u001b[0m\u001b[1;33m:\u001b[0m\u001b[1;33m\u001b[0m\u001b[1;33m\u001b[0m\u001b[0m\n\u001b[1;32m-> 2648\u001b[1;33m                 \u001b[1;32mreturn\u001b[0m \u001b[0mself\u001b[0m\u001b[1;33m.\u001b[0m\u001b[0m_engine\u001b[0m\u001b[1;33m.\u001b[0m\u001b[0mget_loc\u001b[0m\u001b[1;33m(\u001b[0m\u001b[0mself\u001b[0m\u001b[1;33m.\u001b[0m\u001b[0m_maybe_cast_indexer\u001b[0m\u001b[1;33m(\u001b[0m\u001b[0mkey\u001b[0m\u001b[1;33m)\u001b[0m\u001b[1;33m)\u001b[0m\u001b[1;33m\u001b[0m\u001b[1;33m\u001b[0m\u001b[0m\n\u001b[0m\u001b[0;32m   2649\u001b[0m         \u001b[0mindexer\u001b[0m \u001b[1;33m=\u001b[0m \u001b[0mself\u001b[0m\u001b[1;33m.\u001b[0m\u001b[0mget_indexer\u001b[0m\u001b[1;33m(\u001b[0m\u001b[1;33m[\u001b[0m\u001b[0mkey\u001b[0m\u001b[1;33m]\u001b[0m\u001b[1;33m,\u001b[0m \u001b[0mmethod\u001b[0m\u001b[1;33m=\u001b[0m\u001b[0mmethod\u001b[0m\u001b[1;33m,\u001b[0m \u001b[0mtolerance\u001b[0m\u001b[1;33m=\u001b[0m\u001b[0mtolerance\u001b[0m\u001b[1;33m)\u001b[0m\u001b[1;33m\u001b[0m\u001b[1;33m\u001b[0m\u001b[0m\n\u001b[0;32m   2650\u001b[0m         \u001b[1;32mif\u001b[0m \u001b[0mindexer\u001b[0m\u001b[1;33m.\u001b[0m\u001b[0mndim\u001b[0m \u001b[1;33m>\u001b[0m \u001b[1;36m1\u001b[0m \u001b[1;32mor\u001b[0m \u001b[0mindexer\u001b[0m\u001b[1;33m.\u001b[0m\u001b[0msize\u001b[0m \u001b[1;33m>\u001b[0m \u001b[1;36m1\u001b[0m\u001b[1;33m:\u001b[0m\u001b[1;33m\u001b[0m\u001b[1;33m\u001b[0m\u001b[0m\n",
      "\u001b[1;32mpandas\\_libs\\index.pyx\u001b[0m in \u001b[0;36mpandas._libs.index.IndexEngine.get_loc\u001b[1;34m()\u001b[0m\n",
      "\u001b[1;32mpandas\\_libs\\index.pyx\u001b[0m in \u001b[0;36mpandas._libs.index.IndexEngine.get_loc\u001b[1;34m()\u001b[0m\n",
      "\u001b[1;32mpandas\\_libs\\hashtable_class_helper.pxi\u001b[0m in \u001b[0;36mpandas._libs.hashtable.PyObjectHashTable.get_item\u001b[1;34m()\u001b[0m\n",
      "\u001b[1;32mpandas\\_libs\\hashtable_class_helper.pxi\u001b[0m in \u001b[0;36mpandas._libs.hashtable.PyObjectHashTable.get_item\u001b[1;34m()\u001b[0m\n",
      "\u001b[1;31mKeyError\u001b[0m: 'Email.Acq.Dt'"
     ]
    }
   ],
   "source": [
    "excl_df['Email.Acq.Dt'].head()"
   ]
  },
  {
   "cell_type": "code",
   "execution_count": 243,
   "metadata": {},
   "outputs": [],
   "source": [
    "excl_df['Email.Acq.Dt_year'] = pd.DatetimeIndex(df['Email.Acq.Dt']).year.fillna(2019)\n",
    "excl_df['Email.Acq.Dt_month'] = pd.DatetimeIndex(df['Email.Acq.Dt']).month.fillna(9) # As most of them are in 8th n 9th month"
   ]
  },
  {
   "cell_type": "code",
   "execution_count": 242,
   "metadata": {},
   "outputs": [
    {
     "data": {
      "text/plain": [
       "3.0     172\n",
       "4.0     297\n",
       "5.0     317\n",
       "6.0     394\n",
       "2.0     406\n",
       "7.0     428\n",
       "10.0    482\n",
       "1.0     523\n",
       "11.0    603\n",
       "8.0     830\n",
       "12.0    897\n",
       "9.0     925\n",
       "Name: Email.Acq.Dt_month, dtype: int64"
      ]
     },
     "execution_count": 242,
     "metadata": {},
     "output_type": "execute_result"
    }
   ],
   "source": [
    "excl_df['Email.Acq.Dt_month'].value_counts().sort_values()"
   ]
  },
  {
   "cell_type": "code",
   "execution_count": 249,
   "metadata": {},
   "outputs": [
    {
     "data": {
      "text/plain": [
       "2019-12-25    177\n",
       "2019-09-04     99\n",
       "2019-09-05     55\n",
       "2019-12-26     41\n",
       "2019-12-06     40\n",
       "             ... \n",
       "2020-03-10      1\n",
       "2011-01-21      1\n",
       "2018-07-24      1\n",
       "2014-01-31      1\n",
       "2017-01-10      1\n",
       "Name: Prod.Buy.Idpd, Length: 394, dtype: int64"
      ]
     },
     "execution_count": 249,
     "metadata": {},
     "output_type": "execute_result"
    }
   ],
   "source": [
    "excl_df['Prod.Buy.Idpd'].value_counts()"
   ]
  },
  {
   "cell_type": "code",
   "execution_count": 253,
   "metadata": {},
   "outputs": [],
   "source": [
    "excl_df['Prod.Buy.Idpd_year'] = pd.DatetimeIndex(df['Prod.Buy.Idpd']).year.fillna(2019)\n",
    "excl_df['Prod.Buy.Idpd_month'] = pd.DatetimeIndex(df['Prod.Buy.Idpd']).month.fillna(12)"
   ]
  },
  {
   "cell_type": "code",
   "execution_count": 252,
   "metadata": {},
   "outputs": [
    {
     "data": {
      "text/plain": [
       "3.0      86\n",
       "4.0     187\n",
       "5.0     210\n",
       "6.0     261\n",
       "7.0     333\n",
       "2.0     349\n",
       "1.0     401\n",
       "10.0    415\n",
       "11.0    421\n",
       "8.0     445\n",
       "9.0     667\n",
       "12.0    824\n",
       "Name: Prod.Buy.Idpd_month, dtype: int64"
      ]
     },
     "execution_count": 252,
     "metadata": {},
     "output_type": "execute_result"
    }
   ],
   "source": [
    "excl_df['Prod.Buy.Idpd_month'].value_counts().sort_values()"
   ]
  },
  {
   "cell_type": "code",
   "execution_count": 257,
   "metadata": {},
   "outputs": [
    {
     "data": {
      "text/plain": [
       "2019-11-26    226\n",
       "2019-12-24    126\n",
       "2019-12-25     53\n",
       "2019-11-27     49\n",
       "2019-11-28     38\n",
       "             ... \n",
       "2017-03-13      1\n",
       "2017-05-12      1\n",
       "2016-04-10      1\n",
       "2019-03-26      1\n",
       "2015-05-02      1\n",
       "Name: Eml.Open.First.Ts, Length: 461, dtype: int64"
      ]
     },
     "execution_count": 257,
     "metadata": {},
     "output_type": "execute_result"
    }
   ],
   "source": [
    "excl_df['Eml.Open.First.Ts'].value_counts()"
   ]
  },
  {
   "cell_type": "code",
   "execution_count": 263,
   "metadata": {},
   "outputs": [],
   "source": [
    "excl_df['Eml.Open.First.Ts_year'] = pd.DatetimeIndex(df['Eml.Open.First.Ts']).year.fillna(2019)\n",
    "excl_df['Eml.Open.First.Ts_month'] = pd.DatetimeIndex(df['Eml.Open.First.Ts']).month.fillna(12) # 12th and 1st months has more"
   ]
  },
  {
   "cell_type": "code",
   "execution_count": 267,
   "metadata": {},
   "outputs": [
    {
     "data": {
      "text/plain": [
       "3.0       21\n",
       "4.0      122\n",
       "2.0      207\n",
       "6.0      223\n",
       "5.0      242\n",
       "7.0      285\n",
       "8.0      290\n",
       "9.0      331\n",
       "10.0     356\n",
       "1.0      389\n",
       "11.0     616\n",
       "12.0    6918\n",
       "Name: Eml.Open.First.Ts_month, dtype: int64"
      ]
     },
     "execution_count": 267,
     "metadata": {},
     "output_type": "execute_result"
    }
   ],
   "source": [
    "excl_df['Eml.Open.First.Ts_month'].value_counts().sort_values()"
   ]
  },
  {
   "cell_type": "code",
   "execution_count": 266,
   "metadata": {},
   "outputs": [
    {
     "data": {
      "text/plain": [
       "0   2020-02-17\n",
       "1          NaT\n",
       "2   2020-02-17\n",
       "3   2016-08-06\n",
       "4   2019-05-26\n",
       "Name: Eml.Open.Last.Ts, dtype: datetime64[ns]"
      ]
     },
     "execution_count": 266,
     "metadata": {},
     "output_type": "execute_result"
    }
   ],
   "source": [
    "excl_df['Eml.Open.Last.Ts'].head()"
   ]
  },
  {
   "cell_type": "code",
   "execution_count": 272,
   "metadata": {},
   "outputs": [],
   "source": [
    "excl_df['Eml.Open.Last.Ts_year'] = pd.DatetimeIndex(df['Eml.Open.Last.Ts']).year.fillna(2019)\n",
    "excl_df['Eml.Open.Last.Ts_month'] = pd.DatetimeIndex(df['Eml.Open.Last.Ts']).month.fillna(12)"
   ]
  },
  {
   "cell_type": "code",
   "execution_count": 269,
   "metadata": {},
   "outputs": [
    {
     "data": {
      "text/plain": [
       "2015.0       2\n",
       "2014.0       2\n",
       "2017.0       5\n",
       "2016.0       5\n",
       "2018.0      12\n",
       "2020.0    1676\n",
       "2019.0    2081\n",
       "Name: Eml.Open.Last.Ts_year, dtype: int64"
      ]
     },
     "execution_count": 269,
     "metadata": {},
     "output_type": "execute_result"
    }
   ],
   "source": [
    "excl_df['Eml.Open.Last.Ts_year'].value_counts().sort_values()"
   ]
  },
  {
   "cell_type": "code",
   "execution_count": null,
   "metadata": {},
   "outputs": [],
   "source": []
  }
 ],
 "metadata": {
  "kernelspec": {
   "display_name": "Python 3",
   "language": "python",
   "name": "python3"
  },
  "language_info": {
   "codemirror_mode": {
    "name": "ipython",
    "version": 3
   },
   "file_extension": ".py",
   "mimetype": "text/x-python",
   "name": "python",
   "nbconvert_exporter": "python",
   "pygments_lexer": "ipython3",
   "version": "3.6.10"
  }
 },
 "nbformat": 4,
 "nbformat_minor": 4
}
